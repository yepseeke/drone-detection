{
 "cells": [
  {
   "cell_type": "code",
   "execution_count": 2,
   "id": "18ef19b9-2ee3-46b5-b022-3c7e83050a5f",
   "metadata": {
    "tags": []
   },
   "outputs": [],
   "source": [
    "import os\n",
    "import pandas as pd\n",
    "import torch\n",
    "import numpy as np\n",
    "import json\n",
    "\n",
    "import torch.nn as nn\n",
    "import torch.optim as optim\n",
    "import torchvision.transforms as transforms\n",
    "import torchvision.models as models\n",
    "import scaleogram as scg\n",
    "\n",
    "from torch.utils.data import Dataset\n",
    "from skimage import io\n",
    "\n",
    "from torch.utils.data import DataLoader"
   ]
  },
  {
   "cell_type": "code",
   "execution_count": 3,
   "id": "62ee0253-def4-47df-9d0c-a1c227441895",
   "metadata": {
    "tags": []
   },
   "outputs": [],
   "source": [
    "def get_signal(sound_path: str):\n",
    "    samplerate, x = wavfile.read(sound_path)\n",
    "    return samplerate, x\n",
    "\n",
    "def from_string_to_label(object_name:str):\n",
    "    label_map = {\n",
    "        'big_drone': 0,\n",
    "        'bird': 1,\n",
    "        'free_space': 2,\n",
    "        'human': 3,\n",
    "        'small_copter': 4\n",
    "    }\n",
    "    \n",
    "    return label_map.get(object_name, -1)\n",
    "\n",
    "def convert_gray2rgb(image):\n",
    "    width, height = image.shape\n",
    "    out = np.empty((width, height, 3), dtype=np.uint8)\n",
    "    out[:, :, 0] = image\n",
    "    out[:, :, 1] = image\n",
    "    out[:, :, 2] = image\n",
    "\n",
    "    return out\n",
    "\n",
    "def normalize_scaleogram(coefs):\n",
    "    # coefs_c = np.int32(coefs[:, ::96])\n",
    "    min_coefs = np.min(coefs)\n",
    "    max_coefs = np.max(coefs)\n",
    "    normalized_coefs = np.int8(((coefs - min_coefs) / (max_coefs - min_coefs)) * 255)\n",
    "    \n",
    "    normalized_image = normalized_coefs.astype(np.uint8)\n",
    "\n",
    "    return normalized_image\n",
    "\n",
    "def load_json(file_path):\n",
    "    with open(file_path, 'r') as f:\n",
    "        data = json.load(f)\n",
    "    return data\n",
    "\n",
    "def get_scaleogram(sound_path, spectrum=None, wavelet=None, scales=None):\n",
    "    sample_rate, signal = get_signal(sound_path)\n",
    "\n",
    "    if not scales:\n",
    "        scales = scg.periods2scales(np.logspace(np.log10(2), np.log10(1000)), wavelet)\n",
    "\n",
    "    signal_length = signal.shape[0] / sample_rate\n",
    "    time = np.linspace(0, signal_length, signal.shape[0])\n",
    "    cwt = scg.CWT(time=time, signal=signal, scales=scales, wavelet=wavelet)\n",
    "\n",
    "    if spectrum == 'amp':\n",
    "        return np.abs(cwt.coefs), cwt.scales_freq\n",
    "    elif spectrum == 'real':\n",
    "        return np.real(cwt.coefs), cwt.scales_freq\n",
    "    elif spectrum == 'imag':\n",
    "        return np.imag(cwt.coefs), cwt.scales_freq\n",
    "    return cwt.coefs, cwt.scales_freq"
   ]
  },
  {
   "cell_type": "code",
   "execution_count": 4,
   "id": "b0f80e65-6d29-4bd3-b925-ded5da7ec36a",
   "metadata": {
    "tags": []
   },
   "outputs": [],
   "source": [
    "class DroneDataset(Dataset):\n",
    "    def __init__(self, json_file, root_dir, transform=None):\n",
    "        json_path = os.path.join(root_dir, json_file)\n",
    "        self.data = load_json(json_path)\n",
    "        self.transform = transform\n",
    "    \n",
    "    def __len__(self):\n",
    "        return len(self.data)\n",
    "    \n",
    "    def __getitem__(self, index):\n",
    "        \n",
    "        image_arr = np.array(self.data[index].get('coefs'))\n",
    "        normalized_image = normalize_scaleogram(image_arr)\n",
    "        normalized_rgb_image = convert_gray2rgb(normalized_image)\n",
    "        \n",
    "        object_label = from_string_to_label(self.data[index].get('object'))\n",
    "        y_label = torch.tensor(int(object_label))\n",
    "        \n",
    "        if self.transform:\n",
    "            normalized_rgb_image = self.transform(normalized_rgb_image)\n",
    "            \n",
    "        return (normalized_rgb_image, y_label)"
   ]
  },
  {
   "cell_type": "code",
   "execution_count": 4,
   "id": "4f33cd47-f4f4-4ed4-81a9-23a3cc497bb4",
   "metadata": {
    "tags": []
   },
   "outputs": [],
   "source": [
    "cur_folder_path = os.getcwd()\n",
    "datasets_path = os.path.join(cur_folder_path, 'new_datasets')\n",
    "\n",
    "# os.listdir(cur_folder_path)"
   ]
  },
  {
   "cell_type": "code",
   "execution_count": 5,
   "id": "47eac3ad-6429-43d6-8dc7-2e3e1ede2c20",
   "metadata": {
    "tags": []
   },
   "outputs": [],
   "source": [
    "json_file = os.path.join(datasets_path,'dataset.json')\n",
    "\n",
    "json_train = os.path.join(datasets_path,'train_triple_shan.json')\n",
    "json_valid = os.path.join(datasets_path,'valid_triple_shan.json')\n",
    "\n",
    "transform = transforms.Compose([\n",
    "    # transforms.Resize((224, 224)),  \n",
    "    transforms.ToTensor()\n",
    "])\n",
    "\n",
    "# data_set = DroneDataset(json_file, cur_folder_path, transform)\n",
    "\n",
    "train_set = DroneDataset(json_train, cur_folder_path, transform)\n",
    "valid_set = DroneDataset(json_valid, cur_folder_path, transform)"
   ]
  },
  {
   "cell_type": "code",
   "execution_count": 6,
   "id": "4c901fcb-00ca-47b4-bbcb-29bcd09ba21e",
   "metadata": {
    "tags": []
   },
   "outputs": [],
   "source": [
    "batch_size = 30\n",
    "\n",
    "train_loader = DataLoader(dataset=train_set, batch_size=batch_size, shuffle=True)\n",
    "valid_loader = DataLoader(dataset=valid_set, batch_size=batch_size, shuffle=True)"
   ]
  },
  {
   "cell_type": "code",
   "execution_count": 6,
   "id": "beb00c7d-ebdb-430c-ab3f-9a5efeeb333a",
   "metadata": {
    "tags": []
   },
   "outputs": [
    {
     "name": "stderr",
     "output_type": "stream",
     "text": [
      "/opt/conda/lib/python3.11/site-packages/torchvision/models/_utils.py:208: UserWarning: The parameter 'pretrained' is deprecated since 0.13 and may be removed in the future, please use 'weights' instead.\n",
      "  warnings.warn(\n",
      "/opt/conda/lib/python3.11/site-packages/torchvision/models/_utils.py:223: UserWarning: Arguments other than a weight enum or `None` for 'weights' are deprecated since 0.13 and may be removed in the future. The current behavior is equivalent to passing `weights=ResNet18_Weights.IMAGENET1K_V1`. You can also use `weights=ResNet18_Weights.DEFAULT` to get the most up-to-date weights.\n",
      "  warnings.warn(msg)\n"
     ]
    }
   ],
   "source": [
    "num_classes = 5\n",
    "\n",
    "model = models.resnet18(pretrained=True) \n",
    "model.fc = nn.Linear(model.fc.in_features, num_classes)\n",
    "\n",
    "# model.load_state_dict(torch.load('resnet18_cmor_model.pth'))"
   ]
  },
  {
   "cell_type": "code",
   "execution_count": 7,
   "id": "10addd91-8d89-467e-b4cd-1d1b6d1b32f5",
   "metadata": {
    "tags": []
   },
   "outputs": [
    {
     "data": {
      "text/plain": [
       "ResNet(\n",
       "  (conv1): Conv2d(3, 64, kernel_size=(7, 7), stride=(2, 2), padding=(3, 3), bias=False)\n",
       "  (bn1): BatchNorm2d(64, eps=1e-05, momentum=0.1, affine=True, track_running_stats=True)\n",
       "  (relu): ReLU(inplace=True)\n",
       "  (maxpool): MaxPool2d(kernel_size=3, stride=2, padding=1, dilation=1, ceil_mode=False)\n",
       "  (layer1): Sequential(\n",
       "    (0): BasicBlock(\n",
       "      (conv1): Conv2d(64, 64, kernel_size=(3, 3), stride=(1, 1), padding=(1, 1), bias=False)\n",
       "      (bn1): BatchNorm2d(64, eps=1e-05, momentum=0.1, affine=True, track_running_stats=True)\n",
       "      (relu): ReLU(inplace=True)\n",
       "      (conv2): Conv2d(64, 64, kernel_size=(3, 3), stride=(1, 1), padding=(1, 1), bias=False)\n",
       "      (bn2): BatchNorm2d(64, eps=1e-05, momentum=0.1, affine=True, track_running_stats=True)\n",
       "    )\n",
       "    (1): BasicBlock(\n",
       "      (conv1): Conv2d(64, 64, kernel_size=(3, 3), stride=(1, 1), padding=(1, 1), bias=False)\n",
       "      (bn1): BatchNorm2d(64, eps=1e-05, momentum=0.1, affine=True, track_running_stats=True)\n",
       "      (relu): ReLU(inplace=True)\n",
       "      (conv2): Conv2d(64, 64, kernel_size=(3, 3), stride=(1, 1), padding=(1, 1), bias=False)\n",
       "      (bn2): BatchNorm2d(64, eps=1e-05, momentum=0.1, affine=True, track_running_stats=True)\n",
       "    )\n",
       "  )\n",
       "  (layer2): Sequential(\n",
       "    (0): BasicBlock(\n",
       "      (conv1): Conv2d(64, 128, kernel_size=(3, 3), stride=(2, 2), padding=(1, 1), bias=False)\n",
       "      (bn1): BatchNorm2d(128, eps=1e-05, momentum=0.1, affine=True, track_running_stats=True)\n",
       "      (relu): ReLU(inplace=True)\n",
       "      (conv2): Conv2d(128, 128, kernel_size=(3, 3), stride=(1, 1), padding=(1, 1), bias=False)\n",
       "      (bn2): BatchNorm2d(128, eps=1e-05, momentum=0.1, affine=True, track_running_stats=True)\n",
       "      (downsample): Sequential(\n",
       "        (0): Conv2d(64, 128, kernel_size=(1, 1), stride=(2, 2), bias=False)\n",
       "        (1): BatchNorm2d(128, eps=1e-05, momentum=0.1, affine=True, track_running_stats=True)\n",
       "      )\n",
       "    )\n",
       "    (1): BasicBlock(\n",
       "      (conv1): Conv2d(128, 128, kernel_size=(3, 3), stride=(1, 1), padding=(1, 1), bias=False)\n",
       "      (bn1): BatchNorm2d(128, eps=1e-05, momentum=0.1, affine=True, track_running_stats=True)\n",
       "      (relu): ReLU(inplace=True)\n",
       "      (conv2): Conv2d(128, 128, kernel_size=(3, 3), stride=(1, 1), padding=(1, 1), bias=False)\n",
       "      (bn2): BatchNorm2d(128, eps=1e-05, momentum=0.1, affine=True, track_running_stats=True)\n",
       "    )\n",
       "  )\n",
       "  (layer3): Sequential(\n",
       "    (0): BasicBlock(\n",
       "      (conv1): Conv2d(128, 256, kernel_size=(3, 3), stride=(2, 2), padding=(1, 1), bias=False)\n",
       "      (bn1): BatchNorm2d(256, eps=1e-05, momentum=0.1, affine=True, track_running_stats=True)\n",
       "      (relu): ReLU(inplace=True)\n",
       "      (conv2): Conv2d(256, 256, kernel_size=(3, 3), stride=(1, 1), padding=(1, 1), bias=False)\n",
       "      (bn2): BatchNorm2d(256, eps=1e-05, momentum=0.1, affine=True, track_running_stats=True)\n",
       "      (downsample): Sequential(\n",
       "        (0): Conv2d(128, 256, kernel_size=(1, 1), stride=(2, 2), bias=False)\n",
       "        (1): BatchNorm2d(256, eps=1e-05, momentum=0.1, affine=True, track_running_stats=True)\n",
       "      )\n",
       "    )\n",
       "    (1): BasicBlock(\n",
       "      (conv1): Conv2d(256, 256, kernel_size=(3, 3), stride=(1, 1), padding=(1, 1), bias=False)\n",
       "      (bn1): BatchNorm2d(256, eps=1e-05, momentum=0.1, affine=True, track_running_stats=True)\n",
       "      (relu): ReLU(inplace=True)\n",
       "      (conv2): Conv2d(256, 256, kernel_size=(3, 3), stride=(1, 1), padding=(1, 1), bias=False)\n",
       "      (bn2): BatchNorm2d(256, eps=1e-05, momentum=0.1, affine=True, track_running_stats=True)\n",
       "    )\n",
       "  )\n",
       "  (layer4): Sequential(\n",
       "    (0): BasicBlock(\n",
       "      (conv1): Conv2d(256, 512, kernel_size=(3, 3), stride=(2, 2), padding=(1, 1), bias=False)\n",
       "      (bn1): BatchNorm2d(512, eps=1e-05, momentum=0.1, affine=True, track_running_stats=True)\n",
       "      (relu): ReLU(inplace=True)\n",
       "      (conv2): Conv2d(512, 512, kernel_size=(3, 3), stride=(1, 1), padding=(1, 1), bias=False)\n",
       "      (bn2): BatchNorm2d(512, eps=1e-05, momentum=0.1, affine=True, track_running_stats=True)\n",
       "      (downsample): Sequential(\n",
       "        (0): Conv2d(256, 512, kernel_size=(1, 1), stride=(2, 2), bias=False)\n",
       "        (1): BatchNorm2d(512, eps=1e-05, momentum=0.1, affine=True, track_running_stats=True)\n",
       "      )\n",
       "    )\n",
       "    (1): BasicBlock(\n",
       "      (conv1): Conv2d(512, 512, kernel_size=(3, 3), stride=(1, 1), padding=(1, 1), bias=False)\n",
       "      (bn1): BatchNorm2d(512, eps=1e-05, momentum=0.1, affine=True, track_running_stats=True)\n",
       "      (relu): ReLU(inplace=True)\n",
       "      (conv2): Conv2d(512, 512, kernel_size=(3, 3), stride=(1, 1), padding=(1, 1), bias=False)\n",
       "      (bn2): BatchNorm2d(512, eps=1e-05, momentum=0.1, affine=True, track_running_stats=True)\n",
       "    )\n",
       "  )\n",
       "  (avgpool): AdaptiveAvgPool2d(output_size=(1, 1))\n",
       "  (fc): Linear(in_features=512, out_features=5, bias=True)\n",
       ")"
      ]
     },
     "execution_count": 7,
     "metadata": {},
     "output_type": "execute_result"
    }
   ],
   "source": [
    "device = torch.device(\"cuda:1\" if torch.cuda.is_available() else \"cpu\")\n",
    "model.to(device)"
   ]
  },
  {
   "cell_type": "code",
   "execution_count": 8,
   "id": "d5ee5b62-3e15-4ccb-b7d5-9cf46437350d",
   "metadata": {
    "tags": []
   },
   "outputs": [],
   "source": [
    "in_channel = 3\n",
    "learning_rate = 0.001\n",
    "num_epochs = 10"
   ]
  },
  {
   "cell_type": "code",
   "execution_count": 9,
   "id": "3eccfa45-ffcd-4325-ae65-fde633c8fe0f",
   "metadata": {
    "tags": []
   },
   "outputs": [],
   "source": [
    "criterion = nn.CrossEntropyLoss()\n",
    "optimizer = torch.optim.Adam(model.parameters(), lr=learning_rate)"
   ]
  },
  {
   "cell_type": "code",
   "execution_count": 21,
   "id": "63307d48-d272-497e-9bbf-989485b53150",
   "metadata": {
    "tags": []
   },
   "outputs": [
    {
     "name": "stderr",
     "output_type": "stream",
     "text": [
      " 10%|█         | 1/10 [00:35<05:23, 35.89s/it]"
     ]
    },
    {
     "name": "stdout",
     "output_type": "stream",
     "text": [
      "Epoch 1: Average Loss = 0.0265, Accuracy = 99.01%\n"
     ]
    },
    {
     "name": "stderr",
     "output_type": "stream",
     "text": [
      " 20%|██        | 2/10 [01:15<05:05, 38.15s/it]"
     ]
    },
    {
     "name": "stdout",
     "output_type": "stream",
     "text": [
      "Epoch 2: Average Loss = 0.0243, Accuracy = 99.09%\n"
     ]
    },
    {
     "name": "stderr",
     "output_type": "stream",
     "text": [
      " 30%|███       | 3/10 [01:46<04:05, 35.02s/it]"
     ]
    },
    {
     "name": "stdout",
     "output_type": "stream",
     "text": [
      "Epoch 3: Average Loss = 0.0173, Accuracy = 99.45%\n"
     ]
    },
    {
     "name": "stderr",
     "output_type": "stream",
     "text": [
      " 40%|████      | 4/10 [02:24<03:36, 36.07s/it]"
     ]
    },
    {
     "name": "stdout",
     "output_type": "stream",
     "text": [
      "Epoch 4: Average Loss = 0.0248, Accuracy = 99.18%\n"
     ]
    },
    {
     "name": "stderr",
     "output_type": "stream",
     "text": [
      " 50%|█████     | 5/10 [03:03<03:06, 37.24s/it]"
     ]
    },
    {
     "name": "stdout",
     "output_type": "stream",
     "text": [
      "Epoch 5: Average Loss = 0.0226, Accuracy = 99.21%\n"
     ]
    },
    {
     "name": "stderr",
     "output_type": "stream",
     "text": [
      " 60%|██████    | 6/10 [03:42<02:30, 37.55s/it]"
     ]
    },
    {
     "name": "stdout",
     "output_type": "stream",
     "text": [
      "Epoch 6: Average Loss = 0.0209, Accuracy = 99.29%\n"
     ]
    },
    {
     "name": "stderr",
     "output_type": "stream",
     "text": [
      " 70%|███████   | 7/10 [04:22<01:55, 38.45s/it]"
     ]
    },
    {
     "name": "stdout",
     "output_type": "stream",
     "text": [
      "Epoch 7: Average Loss = 0.0104, Accuracy = 99.63%\n"
     ]
    },
    {
     "name": "stderr",
     "output_type": "stream",
     "text": [
      " 80%|████████  | 8/10 [05:03<01:18, 39.15s/it]"
     ]
    },
    {
     "name": "stdout",
     "output_type": "stream",
     "text": [
      "Epoch 8: Average Loss = 0.0239, Accuracy = 99.21%\n"
     ]
    },
    {
     "name": "stderr",
     "output_type": "stream",
     "text": [
      " 90%|█████████ | 9/10 [05:37<00:37, 37.63s/it]"
     ]
    },
    {
     "name": "stdout",
     "output_type": "stream",
     "text": [
      "Epoch 9: Average Loss = 0.0266, Accuracy = 99.06%\n"
     ]
    },
    {
     "name": "stderr",
     "output_type": "stream",
     "text": [
      "100%|██████████| 10/10 [06:10<00:00, 37.03s/it]"
     ]
    },
    {
     "name": "stdout",
     "output_type": "stream",
     "text": [
      "Epoch 10: Average Loss = 0.0131, Accuracy = 99.61%\n",
      "Finished Training in  370.3462772369385\n"
     ]
    },
    {
     "name": "stderr",
     "output_type": "stream",
     "text": [
      "\n"
     ]
    }
   ],
   "source": [
    "import time\n",
    "from tqdm import tqdm\n",
    "\n",
    "start = time.time()\n",
    "\n",
    "accuracy = []\n",
    "avarage_loss = []\n",
    "\n",
    "for epoch in tqdm(range(1, num_epochs+1)):\n",
    "    losses = []\n",
    "    num_correct = 0\n",
    "    num_samples = 0\n",
    "    \n",
    "    model.train()\n",
    "    for batch_idx, (data, targets) in enumerate(train_loader):\n",
    "        data, targets = data.to(device=device), targets.to(device=device)\n",
    "        scores = model(data)\n",
    "        loss = criterion(scores, targets)\n",
    "        \n",
    "        losses.append(loss.item())\n",
    "        \n",
    "        optimizer.zero_grad()\n",
    "        loss.backward()\n",
    "        optimizer.step()\n",
    "        \n",
    "        _, predictions = scores.max(1)\n",
    "        num_correct += (predictions == targets).sum().item()\n",
    "        num_samples += predictions.size(0)\n",
    "    \n",
    "    train_accuracy = num_correct / num_samples\n",
    "    avg_loss = sum(losses) / len(losses)\n",
    "    \n",
    "    accuracy.append(train_accuracy)\n",
    "    avarage_loss.append(avg_loss)\n",
    "    \n",
    "    print(f'Epoch {epoch}: Average Loss = {avg_loss:.4f}, Accuracy = {train_accuracy * 100:.2f}%')\n",
    "        \n",
    "finish = time.time()\n",
    "print('Finished Training in ', finish - start)\n",
    "\n",
    "\n",
    "torch.save(model.state_dict(), './resnet50_shan_triple_model.pth')"
   ]
  },
  {
   "cell_type": "code",
   "execution_count": 16,
   "id": "2e52e8d1-7ffe-4136-aeda-ef903e2e5ef0",
   "metadata": {
    "tags": []
   },
   "outputs": [],
   "source": [
    "def check_accuracy(loader, model):\n",
    "    num_correct = 0\n",
    "    num_samples = 0\n",
    "    model.eval()\n",
    "    \n",
    "    with torch.no_grad():\n",
    "        for x, y in loader:\n",
    "            x, y = x.to(device=device), y.to(device=device)\n",
    "            \n",
    "            scores = model(x)\n",
    "            _, predictions = scores.max(1)\n",
    "            num_correct += (predictions == y).sum()\n",
    "            num_samples += predictions.size(0)\n",
    "            \n",
    "    accuracy = num_correct / num_samples\n",
    "    print(f'Accuracy: {accuracy * 100:.5f}%')"
   ]
  },
  {
   "cell_type": "code",
   "execution_count": 24,
   "id": "0b51605e-b13f-4317-adba-6d1f6b547b54",
   "metadata": {
    "tags": []
   },
   "outputs": [
    {
     "name": "stdout",
     "output_type": "stream",
     "text": [
      "Accuracy: 99.70383%\n"
     ]
    }
   ],
   "source": [
    "check_accuracy(train_loader, model)"
   ]
  },
  {
   "cell_type": "code",
   "execution_count": 25,
   "id": "94bf8588-3759-4e8f-9e56-88fa657e8bd2",
   "metadata": {
    "tags": []
   },
   "outputs": [
    {
     "name": "stdout",
     "output_type": "stream",
     "text": [
      "Accuracy: 92.13166%\n"
     ]
    }
   ],
   "source": [
    "check_accuracy(valid_loader, model)"
   ]
  },
  {
   "cell_type": "code",
   "execution_count": 49,
   "id": "5d729a2c-8b54-42be-93c1-a112c51502d3",
   "metadata": {
    "tags": []
   },
   "outputs": [],
   "source": [
    "transform = transforms.Compose([\n",
    "    # transforms.Resize((224, 224)),  \n",
    "    transforms.ToTensor()\n",
    "])"
   ]
  },
  {
   "cell_type": "code",
   "execution_count": 58,
   "id": "10bddbbf-9655-4a7f-8b83-b61d6dde5b87",
   "metadata": {
    "tags": []
   },
   "outputs": [
    {
     "name": "stdout",
     "output_type": "stream",
     "text": [
      "\n",
      "Processing for: 0.156 seconds\n"
     ]
    }
   ],
   "source": [
    "start = time.time()\n",
    "pred_class, probabilities = test_audio(model, 'bird_1_99.wav', transform, wavelet)\n",
    "end = time.time()\n",
    "\n",
    "elapsed = end - start\n",
    "print(\"\\nProcessing for: {:.3f} seconds\".format(elapsed))"
   ]
  },
  {
   "cell_type": "code",
   "execution_count": 53,
   "id": "2918e042-58f7-4dd1-8515-274fe308ea94",
   "metadata": {
    "tags": []
   },
   "outputs": [
    {
     "data": {
      "text/plain": [
       "(1,\n",
       " array([4.9301896e-09, 9.9999940e-01, 4.2976815e-08, 5.0224122e-07,\n",
       "        8.8973543e-08], dtype=float32))"
      ]
     },
     "execution_count": 53,
     "metadata": {},
     "output_type": "execute_result"
    }
   ],
   "source": [
    "pred_class, probabilities"
   ]
  },
  {
   "cell_type": "code",
   "execution_count": 33,
   "id": "c3881e8c-4d88-41b6-b369-8a4ff3f8bf2d",
   "metadata": {
    "tags": []
   },
   "outputs": [],
   "source": [
    "    label_map = {\n",
    "        'big_drone': 0,\n",
    "        'bird': 1,\n",
    "        'free_space': 2,\n",
    "        'human': 3,\n",
    "        'small_copter': 4\n",
    "    }"
   ]
  },
  {
   "cell_type": "code",
   "execution_count": null,
   "id": "35aebb2a-6d74-4648-8154-ccde846e4090",
   "metadata": {},
   "outputs": [],
   "source": []
  }
 ],
 "metadata": {
  "kernelspec": {
   "display_name": "Python 3 (ipykernel)",
   "language": "python",
   "name": "python3"
  },
  "language_info": {
   "codemirror_mode": {
    "name": "ipython",
    "version": 3
   },
   "file_extension": ".py",
   "mimetype": "text/x-python",
   "name": "python",
   "nbconvert_exporter": "python",
   "pygments_lexer": "ipython3",
   "version": "3.11.7"
  }
 },
 "nbformat": 4,
 "nbformat_minor": 5
}
